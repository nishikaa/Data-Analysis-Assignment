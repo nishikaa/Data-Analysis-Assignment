{
 "cells": [
  {
   "cell_type": "markdown",
   "id": "f1ba15b4-72e1-4642-9864-11c8950b6583",
   "metadata": {},
   "source": [
    "##  Introduction\n",
    "\n",
    "This notebook explores user, transaction, and product data from Fetch Rewards. The goal is to identify data quality issues, analyze trends, and answer business questions using SQL queries and visualizations."
   ]
  },
  {
   "cell_type": "code",
   "execution_count": 13,
   "id": "e474ae74-eafc-473b-a2f9-fe8397e215e3",
   "metadata": {},
   "outputs": [],
   "source": [
    "import pandas as pd\n",
    "import sqlite3\n",
    "\n",
    "# Connect to SQLite DB \n",
    "conn = sqlite3.connect('takehome.db')\n"
   ]
  },
  {
   "cell_type": "markdown",
   "id": "1202b5d7-fbba-46dc-8876-d322b5c411d7",
   "metadata": {},
   "source": [
    "### Closed-ended questions:"
   ]
  },
  {
   "cell_type": "markdown",
   "id": "7e77ed42-f1ae-4316-aec8-efcb4aa0a2ef",
   "metadata": {},
   "source": [
    "1. Question : What are the top 5 brands by receipts scanned among users 21 and over?<br>\n",
    "   Answer: `NERDS CANDY`, `DOVE`, `SOUR PATCH KIDS`,`HERSHEY'S`, `COCA-COLA`"
   ]
  },
  {
   "cell_type": "code",
   "execution_count": 97,
   "id": "d10608f9-d52c-4ebb-a285-339adc59d0ac",
   "metadata": {},
   "outputs": [
    {
     "data": {
      "text/html": [
       "<div>\n",
       "<style scoped>\n",
       "    .dataframe tbody tr th:only-of-type {\n",
       "        vertical-align: middle;\n",
       "    }\n",
       "\n",
       "    .dataframe tbody tr th {\n",
       "        vertical-align: top;\n",
       "    }\n",
       "\n",
       "    .dataframe thead th {\n",
       "        text-align: right;\n",
       "    }\n",
       "</style>\n",
       "<table border=\"1\" class=\"dataframe\">\n",
       "  <thead>\n",
       "    <tr style=\"text-align: right;\">\n",
       "      <th></th>\n",
       "      <th>BRAND</th>\n",
       "      <th>receipts_scanned</th>\n",
       "    </tr>\n",
       "  </thead>\n",
       "  <tbody>\n",
       "    <tr>\n",
       "      <th>0</th>\n",
       "      <td>NERDS CANDY</td>\n",
       "      <td>14</td>\n",
       "    </tr>\n",
       "    <tr>\n",
       "      <th>1</th>\n",
       "      <td>DOVE</td>\n",
       "      <td>14</td>\n",
       "    </tr>\n",
       "    <tr>\n",
       "      <th>2</th>\n",
       "      <td>None</td>\n",
       "      <td>14</td>\n",
       "    </tr>\n",
       "    <tr>\n",
       "      <th>3</th>\n",
       "      <td>SOUR PATCH KIDS</td>\n",
       "      <td>13</td>\n",
       "    </tr>\n",
       "    <tr>\n",
       "      <th>4</th>\n",
       "      <td>HERSHEY'S</td>\n",
       "      <td>13</td>\n",
       "    </tr>\n",
       "    <tr>\n",
       "      <th>5</th>\n",
       "      <td>COCA-COLA</td>\n",
       "      <td>13</td>\n",
       "    </tr>\n",
       "  </tbody>\n",
       "</table>\n",
       "</div>"
      ],
      "text/plain": [
       "             BRAND  receipts_scanned\n",
       "0      NERDS CANDY                14\n",
       "1             DOVE                14\n",
       "2             None                14\n",
       "3  SOUR PATCH KIDS                13\n",
       "4        HERSHEY'S                13\n",
       "5        COCA-COLA                13"
      ]
     },
     "execution_count": 97,
     "metadata": {},
     "output_type": "execute_result"
    }
   ],
   "source": [
    "query = \"\"\"\n",
    "SELECT p.BRAND, COUNT(DISTINCT t.RECEIPT_ID) AS receipts_scanned\n",
    "FROM user u\n",
    "JOIN \"transaction\" t ON u.ID = t.USER_ID\n",
    "JOIN product p ON t.BARCODE = p.BARCODE\n",
    "WHERE CAST((JULIANDAY('now') - JULIANDAY(u.BIRTH_DATE)) / 365.25 AS INTEGER) >= 21\n",
    "GROUP BY p.BRAND\n",
    "ORDER BY receipts_scanned DESC\n",
    "LIMIT 6;\n",
    "\"\"\"\n",
    "\n",
    "pd.read_sql_query(query, conn)"
   ]
  },
  {
   "cell_type": "markdown",
   "id": "ede44c6b-5bd9-4ce8-a6a5-2be88c7a563c",
   "metadata": {},
   "source": [
    "2. Question : What are the top 5 brands by sales among users that have had their account for at least six months?<br>\n",
    "   Anaswer : `ANNIE'S`, `HOMEGROWN`,`GROCERY`, `DOVE` ,`BAREFOOT`, `ORIBE`,`SHEA MOISTURE` "
   ]
  },
  {
   "cell_type": "code",
   "execution_count": 100,
   "id": "058dcadf-970c-4d06-a01b-90581cf0631e",
   "metadata": {},
   "outputs": [
    {
     "data": {
      "text/html": [
       "<div>\n",
       "<style scoped>\n",
       "    .dataframe tbody tr th:only-of-type {\n",
       "        vertical-align: middle;\n",
       "    }\n",
       "\n",
       "    .dataframe tbody tr th {\n",
       "        vertical-align: top;\n",
       "    }\n",
       "\n",
       "    .dataframe thead th {\n",
       "        text-align: right;\n",
       "    }\n",
       "</style>\n",
       "<table border=\"1\" class=\"dataframe\">\n",
       "  <thead>\n",
       "    <tr style=\"text-align: right;\">\n",
       "      <th></th>\n",
       "      <th>BRAND</th>\n",
       "      <th>total_sales</th>\n",
       "    </tr>\n",
       "  </thead>\n",
       "  <tbody>\n",
       "    <tr>\n",
       "      <th>0</th>\n",
       "      <td>None</td>\n",
       "      <td>23904.02</td>\n",
       "    </tr>\n",
       "    <tr>\n",
       "      <th>1</th>\n",
       "      <td>ANNIE'S HOMEGROWN GROCERY</td>\n",
       "      <td>2321.04</td>\n",
       "    </tr>\n",
       "    <tr>\n",
       "      <th>2</th>\n",
       "      <td>DOVE</td>\n",
       "      <td>2267.21</td>\n",
       "    </tr>\n",
       "    <tr>\n",
       "      <th>3</th>\n",
       "      <td>BAREFOOT</td>\n",
       "      <td>2224.33</td>\n",
       "    </tr>\n",
       "    <tr>\n",
       "      <th>4</th>\n",
       "      <td>ORIBE</td>\n",
       "      <td>2030.91</td>\n",
       "    </tr>\n",
       "    <tr>\n",
       "      <th>5</th>\n",
       "      <td>SHEA MOISTURE</td>\n",
       "      <td>1934.20</td>\n",
       "    </tr>\n",
       "  </tbody>\n",
       "</table>\n",
       "</div>"
      ],
      "text/plain": [
       "                       BRAND  total_sales\n",
       "0                       None     23904.02\n",
       "1  ANNIE'S HOMEGROWN GROCERY      2321.04\n",
       "2                       DOVE      2267.21\n",
       "3                   BAREFOOT      2224.33\n",
       "4                      ORIBE      2030.91\n",
       "5              SHEA MOISTURE      1934.20"
      ]
     },
     "execution_count": 100,
     "metadata": {},
     "output_type": "execute_result"
    }
   ],
   "source": [
    "query = \"\"\"\n",
    "SELECT \n",
    "    p.BRAND, \n",
    "    SUM(t.FINAL_SALE) AS total_sales\n",
    "FROM user u\n",
    "JOIN \"transaction\" t ON u.ID = t.USER_ID\n",
    "JOIN product p ON t.BARCODE = p.BARCODE\n",
    "WHERE (JULIANDAY('now') - JULIANDAY(u.CREATED_DATE)) >= 182.625  -- approx 6 months\n",
    "GROUP BY p.BRAND\n",
    "ORDER BY total_sales DESC\n",
    "LIMIT 6;\n",
    "\"\"\"\n",
    "pd.read_sql_query(query, conn)"
   ]
  },
  {
   "cell_type": "markdown",
   "id": "b7207d17-670e-49d1-b881-8fa3cb67df79",
   "metadata": {},
   "source": [
    "3. Question : What is the percentage of sales in the Health & Wellness category by generation? <br>\n",
    "   Answer : Showing below"
   ]
  },
  {
   "cell_type": "code",
   "execution_count": 40,
   "id": "03f086b9-564a-43f4-8c6a-f891bc9c7cce",
   "metadata": {},
   "outputs": [
    {
     "data": {
      "text/html": [
       "<div>\n",
       "<style scoped>\n",
       "    .dataframe tbody tr th:only-of-type {\n",
       "        vertical-align: middle;\n",
       "    }\n",
       "\n",
       "    .dataframe tbody tr th {\n",
       "        vertical-align: top;\n",
       "    }\n",
       "\n",
       "    .dataframe thead th {\n",
       "        text-align: right;\n",
       "    }\n",
       "</style>\n",
       "<table border=\"1\" class=\"dataframe\">\n",
       "  <thead>\n",
       "    <tr style=\"text-align: right;\">\n",
       "      <th></th>\n",
       "      <th>Generation</th>\n",
       "      <th>health_sales_percentage</th>\n",
       "    </tr>\n",
       "  </thead>\n",
       "  <tbody>\n",
       "    <tr>\n",
       "      <th>0</th>\n",
       "      <td>Millennials</td>\n",
       "      <td>39215.44</td>\n",
       "    </tr>\n",
       "    <tr>\n",
       "      <th>1</th>\n",
       "      <td>Gen X</td>\n",
       "      <td>21219.41</td>\n",
       "    </tr>\n",
       "    <tr>\n",
       "      <th>2</th>\n",
       "      <td>Boomers</td>\n",
       "      <td>18104.80</td>\n",
       "    </tr>\n",
       "    <tr>\n",
       "      <th>3</th>\n",
       "      <td>Other</td>\n",
       "      <td>NaN</td>\n",
       "    </tr>\n",
       "  </tbody>\n",
       "</table>\n",
       "</div>"
      ],
      "text/plain": [
       "    Generation  health_sales_percentage\n",
       "0  Millennials                 39215.44\n",
       "1        Gen X                 21219.41\n",
       "2      Boomers                 18104.80\n",
       "3        Other                      NaN"
      ]
     },
     "execution_count": 40,
     "metadata": {},
     "output_type": "execute_result"
    }
   ],
   "source": [
    "query = \"\"\"\n",
    "WITH user_gen AS (\n",
    "    SELECT \n",
    "        ID AS USER_ID,\n",
    "        CASE \n",
    "            WHEN CAST((JULIANDAY('now') - JULIANDAY(BIRTH_DATE)) / 365.25 AS INTEGER) BETWEEN 10 AND 25 THEN 'Gen Z'\n",
    "            WHEN CAST((JULIANDAY('now') - JULIANDAY(BIRTH_DATE)) / 365.25 AS INTEGER) BETWEEN 26 AND 41 THEN 'Millennials'\n",
    "            WHEN CAST((JULIANDAY('now') - JULIANDAY(BIRTH_DATE)) / 365.25 AS INTEGER) BETWEEN 42 AND 57 THEN 'Gen X'\n",
    "            WHEN CAST((JULIANDAY('now') - JULIANDAY(BIRTH_DATE)) / 365.25 AS INTEGER) BETWEEN 58 AND 76 THEN 'Boomers'\n",
    "            ELSE 'Other'\n",
    "        END AS Generation\n",
    "    FROM user\n",
    "),\n",
    "sales_by_gen AS (\n",
    "    SELECT \n",
    "        g.Generation,\n",
    "        SUM(t.FINAL_SALE) AS health_sales\n",
    "    FROM user_gen g\n",
    "    JOIN \"transaction\" t ON g.USER_ID = t.USER_ID\n",
    "    JOIN product p ON t.BARCODE = p.BARCODE\n",
    "    WHERE p.CATEGORY_1 = 'Health & Wellness'\n",
    "    GROUP BY g.Generation\n",
    "),\n",
    "total_sales_by_gen AS (\n",
    "    SELECT \n",
    "        g.Generation,\n",
    "        SUM(t.FINAL_SALE) AS total_sales\n",
    "    FROM user_gen g\n",
    "    JOIN \"transaction\" t ON g.USER_ID = t.USER_ID\n",
    "    GROUP BY g.Generation\n",
    ")\n",
    "SELECT \n",
    "    t.Generation,\n",
    "    ROUND(CAST(s.health_sales AS FLOAT) / t.total_sales * 100, 2) AS health_sales_percentage\n",
    "FROM total_sales_by_gen t\n",
    "LEFT JOIN sales_by_gen s ON t.Generation = s.Generation\n",
    "ORDER BY health_sales_percentage DESC;\n",
    "\"\"\"\n",
    "pd.read_sql_query(query, conn)"
   ]
  },
  {
   "cell_type": "markdown",
   "id": "93b60fd0-5581-42d8-9aed-1bccb189a6b4",
   "metadata": {},
   "source": [
    "### Open-ended questions:"
   ]
  },
  {
   "cell_type": "markdown",
   "id": "b8a4f29a-b7ce-4d0b-85de-bc7134899991",
   "metadata": {},
   "source": [
    "1. Question: Who are Fetch’s power users? <br>\n",
    "   Answer: Five user ID's `62ffec490d9dbaff18c0a999` , `62c09104baa38d1a1f6c260e` , `61a58ac49c135b462ccddd1c`, `610a8541ca1fab5b417b5d33`, `5c366bf06d9819129dfa1118`"
   ]
  },
  {
   "cell_type": "markdown",
   "id": "cbbd8c05-077d-41a1-bf50-bc439eb9372f",
   "metadata": {},
   "source": [
    "Assumption : Power users are defined as users who have scanned at least 3 receipts and have total sales of $15 or more."
   ]
  },
  {
   "cell_type": "code",
   "execution_count": 67,
   "id": "1cbfde87-55e8-4daa-bba8-db6280bb3576",
   "metadata": {},
   "outputs": [
    {
     "data": {
      "text/html": [
       "<div>\n",
       "<style scoped>\n",
       "    .dataframe tbody tr th:only-of-type {\n",
       "        vertical-align: middle;\n",
       "    }\n",
       "\n",
       "    .dataframe tbody tr th {\n",
       "        vertical-align: top;\n",
       "    }\n",
       "\n",
       "    .dataframe thead th {\n",
       "        text-align: right;\n",
       "    }\n",
       "</style>\n",
       "<table border=\"1\" class=\"dataframe\">\n",
       "  <thead>\n",
       "    <tr style=\"text-align: right;\">\n",
       "      <th></th>\n",
       "      <th>user_id</th>\n",
       "      <th>receipts_scanned</th>\n",
       "      <th>total_sales</th>\n",
       "    </tr>\n",
       "  </thead>\n",
       "  <tbody>\n",
       "    <tr>\n",
       "      <th>0</th>\n",
       "      <td>62ffec490d9dbaff18c0a999</td>\n",
       "      <td>3</td>\n",
       "      <td>52.28</td>\n",
       "    </tr>\n",
       "    <tr>\n",
       "      <th>1</th>\n",
       "      <td>62c09104baa38d1a1f6c260e</td>\n",
       "      <td>3</td>\n",
       "      <td>20.28</td>\n",
       "    </tr>\n",
       "    <tr>\n",
       "      <th>2</th>\n",
       "      <td>61a58ac49c135b462ccddd1c</td>\n",
       "      <td>3</td>\n",
       "      <td>19.92</td>\n",
       "    </tr>\n",
       "    <tr>\n",
       "      <th>3</th>\n",
       "      <td>610a8541ca1fab5b417b5d33</td>\n",
       "      <td>3</td>\n",
       "      <td>17.65</td>\n",
       "    </tr>\n",
       "    <tr>\n",
       "      <th>4</th>\n",
       "      <td>5c366bf06d9819129dfa1118</td>\n",
       "      <td>3</td>\n",
       "      <td>17.42</td>\n",
       "    </tr>\n",
       "  </tbody>\n",
       "</table>\n",
       "</div>"
      ],
      "text/plain": [
       "                    user_id  receipts_scanned  total_sales\n",
       "0  62ffec490d9dbaff18c0a999                 3        52.28\n",
       "1  62c09104baa38d1a1f6c260e                 3        20.28\n",
       "2  61a58ac49c135b462ccddd1c                 3        19.92\n",
       "3  610a8541ca1fab5b417b5d33                 3        17.65\n",
       "4  5c366bf06d9819129dfa1118                 3        17.42"
      ]
     },
     "execution_count": 67,
     "metadata": {},
     "output_type": "execute_result"
    }
   ],
   "source": [
    "query = \"\"\"\n",
    "SELECT \n",
    "    u.ID AS user_id,\n",
    "    COUNT(DISTINCT t.RECEIPT_ID) AS receipts_scanned,\n",
    "    SUM(t.FINAL_SALE) AS total_sales\n",
    "FROM user u\n",
    "JOIN \"transaction\" t ON u.ID = t.USER_ID\n",
    "GROUP BY u.ID\n",
    "HAVING COUNT(DISTINCT t.RECEIPT_ID) >= 3 AND SUM(t.FINAL_SALE) >= 15\n",
    "ORDER BY total_sales DESC;\n",
    "\"\"\"\n",
    "pd.read_sql_query(query, conn)"
   ]
  },
  {
   "cell_type": "markdown",
   "id": "e8f37d18-3d70-414c-9f9a-2302a829a76d",
   "metadata": {},
   "source": [
    "2. Question: Which is the leading brand in the Dips & Salsa category?\n",
    "   Answer : TOSTITOS"
   ]
  },
  {
   "cell_type": "markdown",
   "id": "11c3a8c4-fb55-4534-82d0-989f72f13d10",
   "metadata": {},
   "source": [
    "Assumption : “Leading” is defined by total sales in the CATEGORY_2 = 'Dips & Salsa', Brand name null ignored for this anlysis"
   ]
  },
  {
   "cell_type": "code",
   "execution_count": 93,
   "id": "39dcb7fc-fc6f-4a80-b0c7-cc13cd08fc3c",
   "metadata": {},
   "outputs": [
    {
     "data": {
      "text/html": [
       "<div>\n",
       "<style scoped>\n",
       "    .dataframe tbody tr th:only-of-type {\n",
       "        vertical-align: middle;\n",
       "    }\n",
       "\n",
       "    .dataframe tbody tr th {\n",
       "        vertical-align: top;\n",
       "    }\n",
       "\n",
       "    .dataframe thead th {\n",
       "        text-align: right;\n",
       "    }\n",
       "</style>\n",
       "<table border=\"1\" class=\"dataframe\">\n",
       "  <thead>\n",
       "    <tr style=\"text-align: right;\">\n",
       "      <th></th>\n",
       "      <th>BRAND</th>\n",
       "      <th>CATEGORY_2</th>\n",
       "      <th>total_sales</th>\n",
       "    </tr>\n",
       "  </thead>\n",
       "  <tbody>\n",
       "    <tr>\n",
       "      <th>0</th>\n",
       "      <td>None</td>\n",
       "      <td>Dips &amp; Salsa</td>\n",
       "      <td>226409.63</td>\n",
       "    </tr>\n",
       "    <tr>\n",
       "      <th>1</th>\n",
       "      <td>TOSTITOS</td>\n",
       "      <td>Dips &amp; Salsa</td>\n",
       "      <td>103104.29</td>\n",
       "    </tr>\n",
       "  </tbody>\n",
       "</table>\n",
       "</div>"
      ],
      "text/plain": [
       "      BRAND    CATEGORY_2  total_sales\n",
       "0      None  Dips & Salsa    226409.63\n",
       "1  TOSTITOS  Dips & Salsa    103104.29"
      ]
     },
     "execution_count": 93,
     "metadata": {},
     "output_type": "execute_result"
    }
   ],
   "source": [
    "query = \"\"\"\n",
    "SELECT \n",
    "    p.BRAND,\n",
    "    CATEGORY_2,\n",
    "    SUM(t.FINAL_SALE) AS total_sales\n",
    "FROM \"transaction\" t\n",
    "JOIN product p ON t.BARCODE = p.BARCODE\n",
    "WHERE p.CATEGORY_2 = 'Dips & Salsa'\n",
    "GROUP BY p.BRAND\n",
    "ORDER BY total_sales DESC\n",
    "LIMIT 2;\n",
    "\n",
    "\"\"\"\n",
    "pd.read_sql_query(query, conn)"
   ]
  },
  {
   "cell_type": "markdown",
   "id": "481fbb26-66e8-4829-8a21-8fe4ec9b6df1",
   "metadata": {},
   "source": [
    "3. Question : At what percent has Fetch grown year over year? <br>\n",
    "   Anaswer : -8% growth rate from July 2024 to August 2024"
   ]
  },
  {
   "cell_type": "markdown",
   "id": "15e90325-ccaa-42da-9546-032e3b91d5ba",
   "metadata": {},
   "source": [
    "Assumption : “Growth” is measured as the change in total receipts scanned per month. We'll compare 2024-07 vs. 2024-08 based on SCAN_DATE as those are the two full month data we have."
   ]
  },
  {
   "cell_type": "code",
   "execution_count": 141,
   "id": "9f2e5531-f332-4121-a447-789a01b077e6",
   "metadata": {},
   "outputs": [
    {
     "data": {
      "text/html": [
       "<div>\n",
       "<style scoped>\n",
       "    .dataframe tbody tr th:only-of-type {\n",
       "        vertical-align: middle;\n",
       "    }\n",
       "\n",
       "    .dataframe tbody tr th {\n",
       "        vertical-align: top;\n",
       "    }\n",
       "\n",
       "    .dataframe thead th {\n",
       "        text-align: right;\n",
       "    }\n",
       "</style>\n",
       "<table border=\"1\" class=\"dataframe\">\n",
       "  <thead>\n",
       "    <tr style=\"text-align: right;\">\n",
       "      <th></th>\n",
       "      <th>july_receipts</th>\n",
       "      <th>august_receipts</th>\n",
       "      <th>percent_growth</th>\n",
       "    </tr>\n",
       "  </thead>\n",
       "  <tbody>\n",
       "    <tr>\n",
       "      <th>0</th>\n",
       "      <td>9197</td>\n",
       "      <td>8457</td>\n",
       "      <td>-8.05</td>\n",
       "    </tr>\n",
       "  </tbody>\n",
       "</table>\n",
       "</div>"
      ],
      "text/plain": [
       "   july_receipts  august_receipts  percent_growth\n",
       "0           9197             8457           -8.05"
      ]
     },
     "execution_count": 141,
     "metadata": {},
     "output_type": "execute_result"
    }
   ],
   "source": [
    "query = \"\"\"\n",
    "WITH monthly_data AS (\n",
    "    SELECT \n",
    "        STRFTIME('%Y-%m', SCAN_DATE) AS month,\n",
    "        COUNT(DISTINCT RECEIPT_ID) AS receipts\n",
    "    FROM \"transaction\"\n",
    "    WHERE STRFTIME('%Y-%m', SCAN_DATE) IN ('2024-07', '2024-08')\n",
    "    GROUP BY month\n",
    "),\n",
    "pivoted AS (\n",
    "    SELECT\n",
    "        MAX(CASE WHEN month = '2024-07' THEN receipts END) AS july_receipts,\n",
    "        MAX(CASE WHEN month = '2024-08' THEN receipts END) AS august_receipts\n",
    "    FROM monthly_data\n",
    ")\n",
    "SELECT \n",
    "    july_receipts,\n",
    "    august_receipts,\n",
    "    ROUND(\n",
    "        CAST(august_receipts - july_receipts AS FLOAT) / july_receipts * 100, \n",
    "        2\n",
    "    ) AS percent_growth\n",
    "FROM pivoted;\n",
    "\"\"\"\n",
    "pd.read_sql_query(query, conn)"
   ]
  },
  {
   "cell_type": "code",
   "execution_count": null,
   "id": "e56d081d-c6b0-4f34-a0d9-02d0cb8853a5",
   "metadata": {},
   "outputs": [],
   "source": []
  }
 ],
 "metadata": {
  "kernelspec": {
   "display_name": "Python [conda env:base] *",
   "language": "python",
   "name": "conda-base-py"
  },
  "language_info": {
   "codemirror_mode": {
    "name": "ipython",
    "version": 3
   },
   "file_extension": ".py",
   "mimetype": "text/x-python",
   "name": "python",
   "nbconvert_exporter": "python",
   "pygments_lexer": "ipython3",
   "version": "3.12.7"
  }
 },
 "nbformat": 4,
 "nbformat_minor": 5
}
